{
  "nbformat": 4,
  "nbformat_minor": 0,
  "metadata": {
    "colab": {
      "provenance": [],
      "authorship_tag": "ABX9TyM5XMENumQdlNVIuc4A8jY/",
      "include_colab_link": true
    },
    "kernelspec": {
      "name": "python3",
      "display_name": "Python 3"
    },
    "language_info": {
      "name": "python"
    }
  },
  "cells": [
    {
      "cell_type": "markdown",
      "metadata": {
        "id": "view-in-github",
        "colab_type": "text"
      },
      "source": [
        "<a href=\"https://colab.research.google.com/github/Sebastian-Hurtado/tareadiscretas/blob/main/tareaparte2ipynb.ipynb\" target=\"_parent\"><img src=\"https://colab.research.google.com/assets/colab-badge.svg\" alt=\"Open In Colab\"/></a>"
      ]
    },
    {
      "cell_type": "code",
      "execution_count": 2,
      "metadata": {
        "colab": {
          "base_uri": "https://localhost:8080/"
        },
        "id": "QR6Slph0wIFb",
        "outputId": "0394e9f2-86b8-4cd3-9f25-1b558d51097d"
      },
      "outputs": [
        {
          "output_type": "stream",
          "name": "stdout",
          "text": [
            "es verdadera\n",
            "31858749840007945920321\n",
            "31858749840007945920321\n"
          ]
        }
      ],
      "source": [
        "a = int (95800)\n",
        "b = int (217519)\n",
        "c = int (414560)\n",
        "d = int (422481)\n",
        "\n",
        "if a**4 +b**4 +c**4 == d**4:\n",
        "    print(\"es verdadera\")\n",
        "    print(a**4+b**4+c**4)\n",
        "    print(d**4)\n",
        "else:\n",
        "    print(\"falsoo\")"
      ]
    },
    {
      "cell_type": "markdown",
      "source": [
        "la conjetura de euler establece:\n",
        "![image.png](data:image/png;base64,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)\n",
        "donde en otra palabras n es el numero de enteros positivos los cuales vamos a elevar a la k pero  roger frye encontro en 1988 el contraejemplo mas pequeño posible donde se demostro que n era menor a k"
      ],
      "metadata": {
        "id": "G-n0j7U8wPH9"
      }
    }
  ]
}