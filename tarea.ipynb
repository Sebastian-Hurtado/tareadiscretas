{
  "nbformat": 4,
  "nbformat_minor": 0,
  "metadata": {
    "colab": {
      "provenance": [],
      "authorship_tag": "ABX9TyNyPK/jNjdtC9twOlAl3aJN",
      "include_colab_link": true
    },
    "kernelspec": {
      "name": "python3",
      "display_name": "Python 3"
    },
    "language_info": {
      "name": "python"
    }
  },
  "cells": [
    {
      "cell_type": "markdown",
      "metadata": {
        "id": "view-in-github",
        "colab_type": "text"
      },
      "source": [
        "<a href=\"https://colab.research.google.com/github/Sebastian-Hurtado/tareadiscretas/blob/main/tarea.ipynb\" target=\"_parent\"><img src=\"https://colab.research.google.com/assets/colab-badge.svg\" alt=\"Open In Colab\"/></a>"
      ]
    },
    {
      "cell_type": "markdown",
      "source": [
        "empezare por definir una funcion que sea capaz de determinar si el numero ingresado en un numero primo\n"
      ],
      "metadata": {
        "id": "Pkbt2kzzV-bc"
      }
    },
    {
      "cell_type": "code",
      "source": [
        "def es_primo(numero):\n",
        "    if numero <= 1:\n",
        "        return False\n",
        "    elif numero <= 3:\n",
        "        return True\n",
        "    elif numero % 2 == 0 or numero % 3 == 0:\n",
        "        return False\n",
        "    else:\n",
        "        i = 5\n",
        "        while i * i <= numero:\n",
        "            if numero % i == 0 or numero % (i + 2) == 0:\n",
        "                return False\n",
        "            i += 6\n",
        "        return True"
      ],
      "metadata": {
        "id": "JAp0fDxhWFnU"
      },
      "execution_count": null,
      "outputs": []
    },
    {
      "cell_type": "markdown",
      "source": [
        "debemos tener en cuenta que el ciclo while se ejecuta mientras el cuadrado de i sea menor al numero ingresado y se empieza en 5 por que ya se tuvo en cuenta los primos 2 y 3, dentro del bucle verificamos si es divisible por i o por i+2. Esto se debe a que, aparte de los primos de la forma 6n - 1 y 6n + 1, todos los demás números no primos son múltiplos de 6, es decir pueden ser expresados como 6n o 6n+2, 6n+3 o 6n+4, pero los primos son de la forma 6n-1 o 6n+1  lo que significa que los no primos son o bien múltiplos de 2 o múltiplos de 3 (pero no ambos). Por lo tanto, probamos sólo esos valores. luego se incrementa i en 6 ya que como se menciono los primos son de la forma 6n-1 o 6n+1, y queremos saltar multiplos de 2 y 3\n",
        "\n"
      ],
      "metadata": {
        "id": "YuKBtRiaczcN"
      }
    },
    {
      "cell_type": "code",
      "source": [
        "def siguiente_primo(numero):\n",
        "    if numero < 2:\n",
        "        return 2\n",
        "    siguiente = numero + 1\n",
        "    while True:\n",
        "        if es_primo(siguiente):\n",
        "            return siguiente\n",
        "        siguiente += 1"
      ],
      "metadata": {
        "id": "hpxz0D9veQ5s"
      },
      "execution_count": null,
      "outputs": []
    },
    {
      "cell_type": "markdown",
      "source": [
        "en esta funcion haciendo uno del numero ingresado y un incremento podemos reutilizar la funcion anterior para encontrar el siguiente primo"
      ],
      "metadata": {
        "id": "JjYsvkrjel3k"
      }
    },
    {
      "cell_type": "code",
      "source": [
        "def al_menos_cuatro_primos_entre_cuadrados(primo_anterior, siguiente_primo):\n",
        "    cuadrado_primo_anterior = primo_anterior ** 2\n",
        "    cuadrado_siguiente_primo = siguiente_primo ** 2\n",
        "    contador_primos = 0\n",
        "    for numero in range(cuadrado_primo_anterior + 1, cuadrado_siguiente_primo):\n",
        "        if es_primo(numero):\n",
        "            contador_primos += 1\n",
        "            if contador_primos >= 4:\n",
        "                return True\n",
        "    return False"
      ],
      "metadata": {
        "id": "FKq07qH4fFPV"
      },
      "execution_count": null,
      "outputs": []
    },
    {
      "cell_type": "markdown",
      "source": [
        "cuadrado_primo_anterior = primo_anterior  2 y cuadrado_siguiente_primo = siguiente_primo  2: Calculamos los cuadrados del número primo anterior y del siguiente número primo.\n",
        "\n",
        "contador_primos = 0: Inicializamos un contador para llevar la cuenta de los números primos encontrados entre los cuadrados.\n",
        "\n",
        "for numero in range(cuadrado_primo_anterior + 1, cuadrado_siguiente_primo): Iteramos a través de los números entre el cuadrado del número primo anterior y el cuadrado del siguiente número primo.\n",
        "\n",
        "if es_primo(numero): Verificamos si el número actual es primo utilizando la función es_primo(numero) que usamos en la funcion anterior.\n",
        "\n",
        "contador_primos += 1: Si el número actual es primo, incrementamos el contador de números primos encontrados.\n",
        "\n",
        "if contador_primos >= 4: Verificamos si hemos encontrado al menos cuatro números primos entre los cuadrados. Si es así, devolvemos True, ya que se cumple la condición de tener al menos cuatro números primos.\n",
        "\n",
        "return False: Si terminamos de iterar a través de los números y no encontramos al menos cuatro números primos, devolvemos False."
      ],
      "metadata": {
        "id": "UhIgPvoMhsQ_"
      }
    },
    {
      "cell_type": "code",
      "source": [
        "numero_ingresado = int(input(\"Ingrese un número para verificar si es primo y encontrar el siguiente primo consecutivo: \"))\n",
        "if es_primo(numero_ingresado):\n",
        "    print(f\"{numero_ingresado} es primo.\")\n",
        "else:\n",
        "    print(f\"{numero_ingresado} no es primo.\")\n",
        "\n",
        "siguiente_primo_consecutivo = siguiente_primo(numero_ingresado)\n",
        "print(f\"El siguiente primo consecutivo al número ingresado es: {siguiente_primo_consecutivo}\")\n",
        "\n",
        "if al_menos_cuatro_primos_entre_cuadrados(numero_ingresado, siguiente_primo_consecutivo):\n",
        "    print(f\"Entre los cuadrados de los números primos {numero_ingresado} y {siguiente_primo_consecutivo} hay al menos 4 números primos.\")\n",
        "else:\n",
        "    print(f\"No hay al menos 4 números primos entre los cuadrados de los números primos {numero_ingresado} y {siguiente_primo_consecutivo}.\")\n"
      ],
      "metadata": {
        "colab": {
          "base_uri": "https://localhost:8080/"
        },
        "id": "ophH-hePiScn",
        "outputId": "d10dbb07-6fc0-4252-c6f1-ea33cd7270b0"
      },
      "execution_count": null,
      "outputs": [
        {
          "output_type": "stream",
          "name": "stdout",
          "text": [
            "Ingrese un número para verificar si es primo y encontrar el siguiente primo consecutivo: 3\n",
            "3 es primo.\n",
            "El siguiente primo consecutivo al número ingresado es: 5\n",
            "Entre los cuadrados de los números primos 3 y 5 hay al menos 4 números primos.\n"
          ]
        }
      ]
    },
    {
      "cell_type": "markdown",
      "source": [
        "en esta parte pedimos que ingresen el numero que verificaremos si es primo y con el cual comienza toda la logica del codigo ya que apartir de ese numero ingresado se calculara el siguiente primo y posteriormente se llamara a la funcion al_menos_cuatro_primos_entre_cuadrados para verificar que si esten los 4 primos dentro del rango de los numeros primos al cuadrado"
      ],
      "metadata": {
        "id": "gAs6BT5kkakl"
      }
    }
  ]
}